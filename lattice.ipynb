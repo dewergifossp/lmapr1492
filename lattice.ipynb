{
 "cells": [
  {
   "cell_type": "code",
   "execution_count": 21,
   "id": "missing-transcription",
   "metadata": {},
   "outputs": [],
   "source": [
    "from jupyter_jsmol.pymatgen import quick_view\n",
    "from pymatgen.ext.matproj import MPRester\n",
    "from pymatgen import Lattice\n",
    "from pymatgen.symmetry.analyzer import SpacegroupAnalyzer\n",
    "from pymatgen.io.cif import CifWriter"
   ]
  },
  {
   "cell_type": "code",
   "execution_count": 22,
   "id": "direct-freeze",
   "metadata": {},
   "outputs": [],
   "source": [
    "with MPRester(\"vLhgJsB0A5VPXcw8\") as m:\n",
    "\n",
    "    # Structure for material id\n",
    "    structure = m.get_structure_by_material_id(\"mp-570418\")"
   ]
  },
  {
   "cell_type": "code",
   "execution_count": 23,
   "id": "cheap-plaza",
   "metadata": {},
   "outputs": [
    {
     "data": {
      "application/vnd.jupyter.widget-view+json": {
       "model_id": "6e431e87f6df4006b44ba403795d56c0",
       "version_major": 2,
       "version_minor": 0
      },
      "text/plain": [
       "JsmolView(layout=Layout(align_self='stretch', height='400px'))"
      ]
     },
     "metadata": {},
     "output_type": "display_data"
    }
   ],
   "source": [
    "view = quick_view (structure)\n",
    "display(view)"
   ]
  },
  {
   "cell_type": "code",
   "execution_count": 24,
   "id": "conscious-repair",
   "metadata": {},
   "outputs": [
    {
     "name": "stdout",
     "output_type": "stream",
     "text": [
      "Direct lattice parameters are :\n",
      "The vectors a, b, c with the following norms : 4.495698280814895, 4.495698280814895, 7.697032\n",
      "The angles alpha, beta, gamma : 90.0°, 90.0°, 120.00000413252016°\n"
     ]
    }
   ],
   "source": [
    "direct_lattice = structure.lattice\n",
    "param = direct_lattice.parameters\n",
    "print(\"Direct lattice parameters are :\")\n",
    "print(\"The vectors a, b, c with the following norms : {}, {}, {}\".format(param[0], param[1], param[2]))\n",
    "print(\"The angles alpha, beta, gamma : {}°, {}°, {}°\".format(param[3], param[4],param[5]))"
   ]
  },
  {
   "cell_type": "code",
   "execution_count": 25,
   "id": "short-swimming",
   "metadata": {},
   "outputs": [
    {
     "name": "stdout",
     "output_type": "stream",
     "text": [
      "Reciprocal lattice parameters are :\n",
      "The vectors a*, b*, c* with the following norms : 1.61380886925153, 1.61380886925153, 0.8163127432989218\n",
      "The angles alpha*, beta*, gamma* : 90.0°, 90.0°, 59.99999586747985°\n"
     ]
    }
   ],
   "source": [
    "reciprocal_lattice = lattice.reciprocal_lattice\n",
    "reciprocal_param = reciprocal_lattice.parameters\n",
    "\n",
    "print(\"Reciprocal lattice parameters are :\")\n",
    "print(\"The vectors a*, b*, c* with the following norms : {}, {}, {}\".format(reciprocal_param[0], reciprocal_param[1], reciprocal_param[2]))\n",
    "print(\"The angles alpha*, beta*, gamma* : {}°, {}°, {}°\".format(reciprocal_param[3], reciprocal_param[4], reciprocal_param[5]))"
   ]
  },
  {
   "cell_type": "code",
   "execution_count": 26,
   "id": "fuzzy-terrorist",
   "metadata": {},
   "outputs": [
    {
     "name": "stdout",
     "output_type": "stream",
     "text": [
      "Lattice type : hexagonal\n",
      "Crystal system : trigonal\n",
      "Point group : -3m\n"
     ]
    }
   ],
   "source": [
    "analyzer = SpacegroupAnalyzer(structure)\n",
    "\n",
    "print(\"Lattice type : {}\".format(analyzer.get_lattice_type()))\n",
    "print(\"Crystal system : {}\".format(analyzer.get_crystal_system()))\n",
    "print(\"Point group : {}\".format(analyzer.get_point_group_symbol()))"
   ]
  },
  {
   "cell_type": "code",
   "execution_count": 28,
   "id": "typical-boxing",
   "metadata": {},
   "outputs": [],
   "source": [
    "file = CifWriter(structure)\n",
    "file.write_file(\"YbI2.cif\")"
   ]
  }
 ],
 "metadata": {
  "kernelspec": {
   "display_name": "Python 3",
   "language": "python",
   "name": "python3"
  },
  "language_info": {
   "codemirror_mode": {
    "name": "ipython",
    "version": 3
   },
   "file_extension": ".py",
   "mimetype": "text/x-python",
   "name": "python",
   "nbconvert_exporter": "python",
   "pygments_lexer": "ipython3",
   "version": "3.6.8"
  }
 },
 "nbformat": 4,
 "nbformat_minor": 5
}
