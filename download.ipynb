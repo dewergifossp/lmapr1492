{
 "cells": [
  {
   "cell_type": "code",
   "execution_count": 9,
   "id": "wrapped-nurse",
   "metadata": {},
   "outputs": [],
   "source": [
    "from jupyter_jsmol.pymatgen import quick_view\n",
    "from pymatgen.ext.matproj import MPRester"
   ]
  },
  {
   "cell_type": "code",
   "execution_count": 10,
   "id": "floating-muscle",
   "metadata": {},
   "outputs": [],
   "source": [
    "with MPRester(\"vLhgJsB0A5VPXcw8\") as m:\n",
    "\n",
    "    # Structure for material id\n",
    "    structure = m.get_structure_by_material_id(\"mp-570418\")\n",
    "\n",
    "    # Dos for material id\n",
    "    dos = m.get_dos_by_material_id(\"mp-570418\")\n",
    "\n",
    "    # Bandstructure for material id\n",
    "    bandstructure = m.get_bandstructure_by_material_id(\"mp-570418\")"
   ]
  },
  {
   "cell_type": "code",
   "execution_count": 11,
   "id": "every-norwegian",
   "metadata": {},
   "outputs": [
    {
     "data": {
      "application/vnd.jupyter.widget-view+json": {
       "model_id": "02d6e9c899274309b18d7b471c67bd31",
       "version_major": 2,
       "version_minor": 0
      },
      "text/plain": [
       "JsmolView(layout=Layout(align_self='stretch', height='400px'))"
      ]
     },
     "metadata": {},
     "output_type": "display_data"
    }
   ],
   "source": [
    "view = quick_view (structure)\n",
    "display(view)"
   ]
  },
  {
   "cell_type": "code",
   "execution_count": 12,
   "id": "removable-bubble",
   "metadata": {},
   "outputs": [
    {
     "name": "stdout",
     "output_type": "stream",
     "text": [
      "Full Formula (Yb1 I2)\n",
      "Reduced Formula: YbI2\n",
      "abc   :   4.495698   4.495698   7.697032\n",
      "angles:  90.000000  90.000000 120.000004\n",
      "Sites (3)\n",
      "  #  SP           a         b         c    magmom\n",
      "---  ----  --------  --------  --------  --------\n",
      "  0  Yb    0         0         0                0\n",
      "  1  I     0.666667  0.333333  0.769119         0\n",
      "  2  I     0.333333  0.666667  0.230881         0\n",
      "\n",
      "\n",
      "Complete DOS for Full Formula (Yb1 I2)\n",
      "Reduced Formula: YbI2\n",
      "abc   :   4.495698   4.495698   7.697032\n",
      "angles:  90.000000  90.000000 120.000004\n",
      "Sites (3)\n",
      "  #  SP           a         b         c\n",
      "---  ----  --------  --------  --------\n",
      "  0  Yb    0         0         0\n",
      "  1  I     0.666667  0.333333  0.769119\n",
      "  2  I     0.333333  0.666667  0.230881\n",
      "\n",
      "\n",
      "<pymatgen.electronic_structure.bandstructure.BandStructureSymmLine object at 0x7f34bca83da0>\n"
     ]
    }
   ],
   "source": [
    "print(structure)\n",
    "print(\"\\n\")\n",
    "\n",
    "print(dos)\n",
    "print(\"\\n\")\n",
    "\n",
    "print(bandstructure)"
   ]
  }
 ],
 "metadata": {
  "kernelspec": {
   "display_name": "Python 3",
   "language": "python",
   "name": "python3"
  },
  "language_info": {
   "codemirror_mode": {
    "name": "ipython",
    "version": 3
   },
   "file_extension": ".py",
   "mimetype": "text/x-python",
   "name": "python",
   "nbconvert_exporter": "python",
   "pygments_lexer": "ipython3",
   "version": "3.6.8"
  }
 },
 "nbformat": 4,
 "nbformat_minor": 5
}
