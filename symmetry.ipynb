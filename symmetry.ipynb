{
 "cells": [
  {
   "cell_type": "code",
   "execution_count": 10,
   "id": "quality-determination",
   "metadata": {},
   "outputs": [],
   "source": [
    "from pymatgen.symmetry.analyzer import SpacegroupAnalyzer\n",
    "from jupyter_jsmol.pymatgen import quick_view\n",
    "from pymatgen.ext.matproj import MPRester"
   ]
  },
  {
   "cell_type": "code",
   "execution_count": 11,
   "id": "informed-moral",
   "metadata": {},
   "outputs": [],
   "source": [
    "with MPRester(\"vLhgJsB0A5VPXcw8\") as m:\n",
    "\n",
    "    # Structure for material id\n",
    "    structure = m.get_structure_by_material_id(\"mp-570418\")"
   ]
  },
  {
   "cell_type": "code",
   "execution_count": 12,
   "id": "numeric-barcelona",
   "metadata": {},
   "outputs": [
    {
     "data": {
      "application/vnd.jupyter.widget-view+json": {
       "model_id": "b78c5926a43e485bace55c5c0dc11fef",
       "version_major": 2,
       "version_minor": 0
      },
      "text/plain": [
       "JsmolView(layout=Layout(align_self='stretch', height='400px'))"
      ]
     },
     "metadata": {},
     "output_type": "display_data"
    }
   ],
   "source": [
    "view = quick_view(structure, \"packed\", supercell = [2,2,2])\n",
    "display(view)"
   ]
  },
  {
   "cell_type": "markdown",
   "id": "beneficial-relations",
   "metadata": {},
   "source": [
    "Première visualisation du réseau cristallin pour se faire une idée préalable sur les différentes opérations de symétrie dans le réseau."
   ]
  },
  {
   "cell_type": "code",
   "execution_count": 14,
   "id": "authorized-ebony",
   "metadata": {
    "scrolled": true
   },
   "outputs": [
    {
     "data": {
      "application/vnd.jupyter.widget-view+json": {
       "model_id": "ac3169d5706f49ad9648fa153671b904",
       "version_major": 2,
       "version_minor": 0
      },
      "text/plain": [
       "JsmolView(layout=Layout(align_self='stretch', height='400px'))"
      ]
     },
     "metadata": {},
     "output_type": "display_data"
    }
   ],
   "source": [
    "view=quick_view(structure)\n",
    "display(view)\n",
    "view.script(\"draw symop 2 {atomno=2}\")"
   ]
  },
  {
   "cell_type": "markdown",
   "id": "overall-start",
   "metadata": {},
   "source": [
    "Opération de symétrie : inversion \\\n",
    "\\\n",
    "Atome cible de la symétrie : atome #2 (I) \\\n",
    "\\\n",
    "Nouvelle position dans la cellule unité : atome #4 (I) \\\n",
    "\\\n",
    "Elément de symétrie : l'atome #1 (Yb) fait office de centre de symétrie  \\\n",
    "\\\n",
    "Equation de symétrie correspondante : \n",
    "\n",
    "$$\n",
    "\\left(\\begin{array}{cc} \n",
    "-1 & 0 & 0\\\\\n",
    "0 & -1 & 0\\\\\n",
    "0 & 0 & -1\n",
    "\\end{array}\\right)\n",
    "\\left(\\begin{array}{cc} \n",
    "x\\\\ \n",
    "y\\\\\n",
    "z\n",
    "\\end{array}\\right)=\n",
    "\\left(\\begin{array}{cc} \n",
    "-x\\\\ \n",
    "-y\\\\\n",
    "-z\n",
    "\\end{array}\\right)\n",
    "$$ "
   ]
  },
  {
   "cell_type": "code",
   "execution_count": 18,
   "id": "simple-bride",
   "metadata": {},
   "outputs": [
    {
     "data": {
      "application/vnd.jupyter.widget-view+json": {
       "model_id": "c83e2594308a4ad586c22f6f25d79ddf",
       "version_major": 2,
       "version_minor": 0
      },
      "text/plain": [
       "JsmolView(layout=Layout(align_self='stretch', height='400px'))"
      ]
     },
     "metadata": {},
     "output_type": "display_data"
    }
   ],
   "source": [
    "view=quick_view(structure)\n",
    "display(view)\n",
    "view.script(\"draw symop 3 {atomno=3}\")"
   ]
  },
  {
   "cell_type": "markdown",
   "id": "graduate-station",
   "metadata": {},
   "source": [
    "Opération de symétrie : Rotation d'ordre 3 \\\n",
    "\\\n",
    "Atome cible de la symétrie : atome #3 (Yb) \\\n",
    "\\\n",
    "Nouvelle position dans la cellule unité : atome #1 (Yb) \\\n",
    "\\\n",
    "Elément de symétrie : l'axe passant par les atomes #1 (Yb) et #6 (Yb) (axe du vecteur c) fait office d'axe de symétrie d'ordre 3  \\\n",
    "\\\n",
    "Equation de symétrie correspondante : \n",
    "\n",
    "$$\n",
    "\\left(\\begin{array}{cc} \n",
    "0 & -1 & 0\\\\\n",
    "1 & -1 & 0\\\\\n",
    "0 & 0 & 1\n",
    "\\end{array}\\right)\n",
    "\\left(\\begin{array}{cc} \n",
    "x\\\\ \n",
    "y\\\\\n",
    "z\n",
    "\\end{array}\\right)=\n",
    "\\left(\\begin{array}{cc} \n",
    "-y\\\\ \n",
    "x-y\\\\\n",
    "z\n",
    "\\end{array}\\right)\n",
    "$$ \n",
    "Le déterminant de la matrice vaut bien $1$"
   ]
  },
  {
   "cell_type": "code",
   "execution_count": 31,
   "id": "driving-wisconsin",
   "metadata": {},
   "outputs": [
    {
     "data": {
      "application/vnd.jupyter.widget-view+json": {
       "model_id": "97716ac077dd4562b8a0ceff39ffa731",
       "version_major": 2,
       "version_minor": 0
      },
      "text/plain": [
       "JsmolView(layout=Layout(align_self='stretch', height='400px'))"
      ]
     },
     "metadata": {},
     "output_type": "display_data"
    }
   ],
   "source": [
    "view=quick_view(structure)\n",
    "display(view)\n",
    "view.script(\"draw symop 10 {atomno=5}\")"
   ]
  },
  {
   "cell_type": "markdown",
   "id": "banned-feeling",
   "metadata": {},
   "source": [
    "Opération de symétrie : réflexion \\\n",
    "\\\n",
    "Atome cible de la symétrie : atome #5 (Yb) \\\n",
    "\\\n",
    "Nouvelle position dans la cellule unité : atome #1 (Yb) \\\n",
    "\\\n",
    "Elément de symétrie : le plan passant par les atomes #1(Yb), #2(I) et #6(Yb) fait office de plan miroir  \\\n",
    "\\\n",
    "Equation de symétrie correspondante : \n",
    "\n",
    "$$\n",
    "\\left(\\begin{array}{cc} \n",
    "-1 & 1 & 0\\\\\n",
    "0 & 1 & 0\\\\\n",
    "0 & 0 & 1\n",
    "\\end{array}\\right)\n",
    "\\left(\\begin{array}{cc} \n",
    "x\\\\ \n",
    "y\\\\\n",
    "z\n",
    "\\end{array}\\right)=\n",
    "\\left(\\begin{array}{cc} \n",
    "-x+y\\\\ \n",
    "y\\\\\n",
    "z\n",
    "\\end{array}\\right)\n",
    "$$ \n",
    "Le déterminant de la matrice vaut bien $-1$"
   ]
  }
 ],
 "metadata": {
  "kernelspec": {
   "display_name": "Python 3",
   "language": "python",
   "name": "python3"
  },
  "language_info": {
   "codemirror_mode": {
    "name": "ipython",
    "version": 3
   },
   "file_extension": ".py",
   "mimetype": "text/x-python",
   "name": "python",
   "nbconvert_exporter": "python",
   "pygments_lexer": "ipython3",
   "version": "3.6.8"
  }
 },
 "nbformat": 4,
 "nbformat_minor": 5
}
